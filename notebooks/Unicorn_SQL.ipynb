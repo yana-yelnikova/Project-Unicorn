{
  "nbformat": 4,
  "nbformat_minor": 0,
  "metadata": {
    "colab": {
      "provenance": []
    },
    "kernelspec": {
      "name": "python3",
      "display_name": "Python 3"
    },
    "language_info": {
      "name": "python"
    }
  },
  "cells": [
    {
      "cell_type": "markdown",
      "source": [
        "1. How many customers do we have in the data?"
      ],
      "metadata": {
        "id": "8qHfqI5lCLPP"
      }
    },
    {
      "cell_type": "code",
      "source": [
        "SELECT COUNT (DISTINCT customer_id) AS number_of_customer\n",
        "FROM customers\n",
        ";"
      ],
      "metadata": {
        "id": "K5y-yvg2COz2"
      },
      "execution_count": null,
      "outputs": []
    },
    {
      "cell_type": "markdown",
      "source": [
        "Answer: 795 customers"
      ],
      "metadata": {
        "id": "pdrJl5pSCOU2"
      }
    },
    {
      "cell_type": "markdown",
      "source": [
        "2. What was the city with the most profit for the company in 2015?\n",
        "\n",
        "3. In 2015, what was the most profitable city's profit?"
      ],
      "metadata": {
        "id": "AjwvyV10CSA-"
      }
    },
    {
      "cell_type": "code",
      "source": [
        "SELECT\n",
        "   SUM (order_profits) AS total_profit,\n",
        "   shipping_city\n",
        "FROM order_details\n",
        "JOIN orders USING (order_id)\n",
        "WHERE EXTRACT (YEAR FROM order_date)=2015\n",
        "GROUP BY 2\n",
        "ORDER BY total_profit DESC\n",
        ";"
      ],
      "metadata": {
        "id": "ShXpLug1CurF"
      },
      "execution_count": null,
      "outputs": []
    },
    {
      "cell_type": "markdown",
      "source": [
        "Answer: New York City with total profit of 14753"
      ],
      "metadata": {
        "id": "MqhyawULCdF1"
      }
    },
    {
      "cell_type": "markdown",
      "source": [
        "4. How many different cities do we have in the data?"
      ],
      "metadata": {
        "id": "eddvExSzC2Ll"
      }
    },
    {
      "cell_type": "code",
      "source": [
        "SELECT COUNT (DISTINCT shipping_city)\n",
        "FROM orders\n",
        ";"
      ],
      "metadata": {
        "id": "Y2ynfsbUC2rl"
      },
      "execution_count": null,
      "outputs": []
    },
    {
      "cell_type": "markdown",
      "source": [
        "Answer: 531 city"
      ],
      "metadata": {
        "id": "UVgibQvvC3A2"
      }
    },
    {
      "cell_type": "markdown",
      "source": [
        "5. Show the total spent by customers from low to high."
      ],
      "metadata": {
        "id": "4lhWGkm9DDul"
      }
    },
    {
      "cell_type": "code",
      "source": [
        "SELECT\n",
        "      cu.customer_id,\n",
        "      cu.customer_name,\n",
        "      SUM (od.order_sales) AS spend_per_cust\n",
        "FROM customers AS cu\n",
        "JOIN orders AS ord USING (customer_id)\n",
        "JOIN order_details AS od USING (order_id)\n",
        "GROUP BY 1,2\n",
        "ORDER BY 3\n",
        ";"
      ],
      "metadata": {
        "id": "5hINSDYzDG1t"
      },
      "execution_count": null,
      "outputs": []
    },
    {
      "cell_type": "markdown",
      "source": [
        "6.What is the most profitable city in the State of Tennessee?"
      ],
      "metadata": {
        "id": "9cF-VxIEDJYd"
      }
    },
    {
      "cell_type": "code",
      "source": [
        "SELECT\n",
        "   SUM (order_profits) AS total_profit,\n",
        "   shipping_city\n",
        "FROM order_details\n",
        "JOIN orders USING (order_id)\n",
        "WHERE shipping_state='Tennessee'\n",
        "GROUP BY 2, shipping_state\n",
        "ORDER BY total_profit DESC\n",
        ";"
      ],
      "metadata": {
        "id": "BPSQfZ4gDKVV"
      },
      "execution_count": null,
      "outputs": []
    },
    {
      "cell_type": "markdown",
      "source": [
        "Answer: Lebanon"
      ],
      "metadata": {
        "id": "xxsPEk6QDLsl"
      }
    },
    {
      "cell_type": "markdown",
      "source": [
        "7. What’s the average annual profit for that city across all years?"
      ],
      "metadata": {
        "id": "Kjss05PIPi0n"
      }
    },
    {
      "cell_type": "code",
      "source": [
        "WITH yearly_profit AS (\n",
        "      SELECT\n",
        "            SUM (order_profits) AS profit_sum,\n",
        "            EXTRACT (YEAR FROM order_date)\n",
        "      FROM order_details\n",
        "      JOIN orders USING (order_id)\n",
        "      WHERE shipping_city='Lebanon'\n",
        "      GROUP BY 2\n",
        "   )\n",
        "SELECT AVG(profit_sum) AS avg_profit_per_year\n",
        "FROM yearly_profit\n",
        ";"
      ],
      "metadata": {
        "id": "GlA1zkg7PktH"
      },
      "execution_count": null,
      "outputs": []
    },
    {
      "cell_type": "markdown",
      "source": [
        "Answer: 27.66/year"
      ],
      "metadata": {
        "id": "iBZHRYjAPmL2"
      }
    },
    {
      "cell_type": "markdown",
      "source": [
        "8. What is the distribution of customer types in the data?"
      ],
      "metadata": {
        "id": "FoflR8zhPwvf"
      }
    },
    {
      "cell_type": "code",
      "source": [
        "--in %\n",
        "WITH total_cust AS (\n",
        "    SELECT COUNT (customer_segment) AS total_count\n",
        "    FROM customers\n",
        "   )\n",
        "SELECT\n",
        "   ROUND(COUNT (customer_segment)*100.0/(SELECT total_count FROM total_cust),2) AS perc_per_segment,\n",
        "      customer_segment\n",
        "FROM customers\n",
        "GROUP BY 2\n",
        ";\n",
        "\n",
        "--in numbers\n",
        "SELECT\n",
        "   COUNT (customer_segment) AS total_count,\n",
        "   customer_segment\n",
        "FROM customers\n",
        "GROUP BY 2\n",
        ";"
      ],
      "metadata": {
        "id": "ML3GCtssP1LW"
      },
      "execution_count": null,
      "outputs": []
    },
    {
      "cell_type": "markdown",
      "source": [
        "9.What’s the most profitable product category on average in Iowa across all years?"
      ],
      "metadata": {
        "id": "1lSu--V6P9HQ"
      }
    },
    {
      "cell_type": "code",
      "source": [
        "WITH profit_per_year AS (\n",
        "      SELECT\n",
        "            SUM (order_profits) total_profit,\n",
        "            product_category,\n",
        "            EXTRACT (YEAR FROM order_date) AS YEAR\n",
        "      FROM order_details\n",
        "      JOIN product USING (product_id)\n",
        "      JOIN orders USING (order_id)\n",
        "      WHERE shipping_state ='Iowa'\n",
        "      GROUP BY 2, 3\n",
        "      ORDER BY 1 DESC\n",
        "      )\n",
        "SELECT\n",
        "   AVG (total_profit) AS avg_year_profit,\n",
        "   product_category\n",
        "FROM profit_per_year\n",
        "GROUP BY 2\n",
        "ORDER BY 1 DESC\n",
        ";"
      ],
      "metadata": {
        "id": "q9KlqfRIP-3O"
      },
      "execution_count": null,
      "outputs": []
    },
    {
      "cell_type": "markdown",
      "source": [
        "Answer: Furniture"
      ],
      "metadata": {
        "id": "cXKO6_E_QAzX"
      }
    },
    {
      "cell_type": "markdown",
      "source": [
        "10. What is the most popular product in that category across all states in 2016?"
      ],
      "metadata": {
        "id": "4Gk-szl8QL-f"
      }
    },
    {
      "cell_type": "code",
      "source": [
        "SELECT\n",
        "   product_name,\n",
        "   SUM (quantity) AS total_quantity\n",
        "FROM product\n",
        "FULL JOIN order_details USING (product_id)\n",
        "FULL JOIN orders USING (order_id)\n",
        "WHERE product_category ='Furniture' AND EXTRACT (YEAR FROM order_date)=2016\n",
        "GROUP BY 1\n",
        "ORDER BY total_quantity DESC\n",
        ";"
      ],
      "metadata": {
        "id": "8QacvanoQQN-"
      },
      "execution_count": null,
      "outputs": []
    },
    {
      "cell_type": "markdown",
      "source": [
        "Answer: Global Push Button Manager's Chair, Indigo"
      ],
      "metadata": {
        "id": "eORHH_ssQSAG"
      }
    },
    {
      "cell_type": "markdown",
      "source": [
        "11. Which customer got the most discount in the data? (in total amount)"
      ],
      "metadata": {
        "id": "5BcJYKoRQUW-"
      }
    },
    {
      "cell_type": "code",
      "source": [
        "WITH full_price AS(\n",
        "      SELECT\n",
        "            order_sales/(1-order_discount) AS full_price,\n",
        "       order_sales,\n",
        "            customer_id,\n",
        "            customer_name\n",
        "      FROM order_details\n",
        "      JOIN orders USING (order_id)\n",
        "      JOIN customers USING (customer_id)\n",
        "   )\n",
        "SELECT\n",
        "    SUM(full_price-order_sales) AS total_disc,\n",
        "    customer_id,\n",
        "      customer_name\n",
        "FROM full_price\n",
        "GROUP BY 2,3\n",
        "ORDER BY 1 DESC\n",
        ";"
      ],
      "metadata": {
        "id": "xqkU4VOzkFIv"
      },
      "execution_count": null,
      "outputs": []
    },
    {
      "cell_type": "markdown",
      "source": [
        "Answer: 687 Sean Miller"
      ],
      "metadata": {
        "id": "xO8plS6tkIYv"
      }
    },
    {
      "cell_type": "markdown",
      "source": [
        "12. How widely did monthly profits vary in 2018?"
      ],
      "metadata": {
        "id": "RudlhZJikNe_"
      }
    },
    {
      "cell_type": "code",
      "source": [
        "WITH month_profit AS (\n",
        "      SELECT\n",
        "            SUM (order_profits) AS month_profit,\n",
        "            EXTRACT (MONTH FROM order_date) AS month_of_2018\n",
        "      FROM order_details\n",
        "      JOIN orders USING (order_id)\n",
        "      GROUP BY order_date\n",
        "      HAVING EXTRACT (YEAR FROM order_date)=2018\n",
        "   ),\n",
        "profit AS (\n",
        "      SELECT\n",
        "            SUM(month_profit) AS profit,\n",
        "            month_of_2018\n",
        "      FROM month_profit\n",
        "      GROUP BY 2\n",
        "    )\n",
        "SELECT\n",
        "   SUM(profit) AS profit,\n",
        "   SUM(profit)-(LAG(SUM(profit)) OVER (ORDER BY month_of_2018)) AS difference,\n",
        "      month_of_2018\n",
        "FROM profit\n",
        "GROUP BY 3\n",
        ";"
      ],
      "metadata": {
        "id": "o2sccj-AkQs_"
      },
      "execution_count": null,
      "outputs": []
    },
    {
      "cell_type": "markdown",
      "source": [
        "13. Which was the biggest order regarding sales in 2015?"
      ],
      "metadata": {
        "id": "GP1rG16xkUdv"
      }
    },
    {
      "cell_type": "code",
      "source": [
        "SELECT\n",
        "   MAX (order_sales) AS max_sales,\n",
        "   order_id\n",
        "FROM order_details\n",
        "JOIN orders USING (order_id)\n",
        "GROUP BY 2, order_date\n",
        "HAVING EXTRACT (YEAR FROM order_date)=2015\n",
        "ORDER BY max_sales DESC\n",
        ";\n",
        "-- 14. What was the rank of each city in the East region in 2015 in quantity?\n",
        "-- 1st New York City 1708\n",
        "SELECT\n",
        "   SUM (quantity) AS sum_quant,\n",
        "   shipping_city,\n",
        "      RANK() OVER (ORDER BY SUM(quantity) DESC) AS rank\n",
        "FROM orders\n",
        "JOIN order_details USING (order_id)\n",
        "WHERE shipping_region ='East' AND EXTRACT (YEAR FROM order_date)=2015\n",
        "GROUP BY 2\n",
        "ORDER BY sum_quant DESC\n",
        ";"
      ],
      "metadata": {
        "id": "QEPnPZPLkVCX"
      },
      "execution_count": null,
      "outputs": []
    },
    {
      "cell_type": "markdown",
      "source": [
        "Answer: CA-2015-145317, 22638"
      ],
      "metadata": {
        "id": "KY0_CwoUkW9w"
      }
    },
    {
      "cell_type": "markdown",
      "source": [
        "14. What was the rank of each city in the East region in 2015 in quantity?"
      ],
      "metadata": {
        "id": "LoxxUmIOkio_"
      }
    },
    {
      "cell_type": "code",
      "source": [
        "SELECT\n",
        "   SUM (quantity) AS sum_quant,\n",
        "   shipping_city,\n",
        "      RANK() OVER (ORDER BY SUM(quantity) DESC) AS rank\n",
        "FROM orders\n",
        "JOIN order_details USING (order_id)\n",
        "WHERE shipping_region ='East' AND EXTRACT (YEAR FROM order_date)=2015\n",
        "GROUP BY 2\n",
        "ORDER BY sum_quant DESC\n",
        ";"
      ],
      "metadata": {
        "id": "frly0M4UkjMm"
      },
      "execution_count": null,
      "outputs": []
    },
    {
      "cell_type": "markdown",
      "source": [
        "Answer: 1st was New York City, 1708"
      ],
      "metadata": {
        "id": "wR8GfJ21kllG"
      }
    },
    {
      "cell_type": "markdown",
      "source": [
        "15. Display customer names for customers who are in the segment ‘Consumer’ or ‘Corporate.’\n",
        "\n",
        "How many customers are there in total?"
      ],
      "metadata": {
        "id": "ydTKNpehku4X"
      }
    },
    {
      "cell_type": "code",
      "source": [
        "SELECT customer_name\n",
        "FROM customers\n",
        "WHERE customer_segment IN ('Consumer', 'Corporate')\n",
        ";"
      ],
      "metadata": {
        "id": "wsoksoJfkyQG"
      },
      "execution_count": null,
      "outputs": []
    },
    {
      "cell_type": "markdown",
      "source": [
        "Answer: 647"
      ],
      "metadata": {
        "id": "rfYKIs8Rk073"
      }
    },
    {
      "cell_type": "markdown",
      "source": [
        "16. Calculate the difference between the largest and smallest order quantities for product id ‘100.’"
      ],
      "metadata": {
        "id": "P15nUYJjk4ve"
      }
    },
    {
      "cell_type": "code",
      "source": [
        "WITH max_min AS(\n",
        "     SELECT\n",
        "            MIN (quantity) AS min_quant,\n",
        "            MAX (quantity) AS max_quant\n",
        "      FROM order_details\n",
        "      WHERE product_id=100\n",
        "   )\n",
        "SELECT max_quant-min_quant AS diff\n",
        "FROM max_min\n",
        ";"
      ],
      "metadata": {
        "id": "DrPZZ9-rlDBW"
      },
      "execution_count": null,
      "outputs": []
    },
    {
      "cell_type": "markdown",
      "source": [
        "Answer: 4"
      ],
      "metadata": {
        "id": "umeK-PN3k9HO"
      }
    },
    {
      "cell_type": "markdown",
      "source": [
        "17. Calculate the percent of products that are within the category ‘Furniture.’"
      ],
      "metadata": {
        "id": "vh0RrNEhlbB2"
      }
    },
    {
      "cell_type": "code",
      "source": [
        "WITH total_category AS (\n",
        "    SELECT COUNT (product_category) AS total_count_categ\n",
        "    FROM product\n",
        "   )\n",
        "SELECT\n",
        "   ROUND (COUNT (product_name)*100.0/(SELECT total_count_categ FROM total_category),2) AS perc_from_total\n",
        "FROM product\n",
        "WHERE product_category='Furniture'\n",
        ";"
      ],
      "metadata": {
        "id": "mK-tkO94lc1d"
      },
      "execution_count": null,
      "outputs": []
    },
    {
      "cell_type": "markdown",
      "source": [
        "Answer: 20.54%"
      ],
      "metadata": {
        "id": "-NtXF3YHlfNN"
      }
    },
    {
      "cell_type": "markdown",
      "source": [
        "18. Display the number of product manufacturers with more than 1 product in the product table."
      ],
      "metadata": {
        "id": "lQnXm_-XllAt"
      }
    },
    {
      "cell_type": "code",
      "source": [
        "WITH manufacturer AS (\n",
        "      SELECT\n",
        "            COUNT (product_name) AS numb_of_prod,\n",
        "            product_manufacturer\n",
        "      FROM product\n",
        "      GROUP BY 2\n",
        "      HAVING COUNT (product_name)>1\n",
        "    )\n",
        "SELECT COUNT (product_manufacturer) AS total_manufacturers\n",
        "FROM manufacturer\n",
        ";"
      ],
      "metadata": {
        "id": "67TI62PmlnBF"
      },
      "execution_count": null,
      "outputs": []
    },
    {
      "cell_type": "markdown",
      "source": [
        "Answer: 169"
      ],
      "metadata": {
        "id": "GXi5gunJlpWt"
      }
    },
    {
      "cell_type": "markdown",
      "source": [
        "19. Find what product manufacturers has more than 2 products.\n",
        "\n",
        "Ex: A product with an identical product manufacturer can be considered a duplicate."
      ],
      "metadata": {
        "id": "QUxx4YLTltv1"
      }
    },
    {
      "cell_type": "code",
      "source": [
        "      SELECT\n",
        "            COUNT (product_name) AS numb_of_prod,\n",
        "            product_manufacturer\n",
        "      FROM product\n",
        "      GROUP BY 2\n",
        "      HAVING COUNT (product_name)>2\n",
        ";"
      ],
      "metadata": {
        "id": "N1PehDhEl1sd"
      },
      "execution_count": null,
      "outputs": []
    },
    {
      "cell_type": "markdown",
      "source": [
        "20. Show the product_subcategory and the total number of products in the subcategory.\n",
        "\n",
        "Show the order from most to least products and then by product_subcategory name ascending."
      ],
      "metadata": {
        "id": "fsL54Fxbl4SN"
      }
    },
    {
      "cell_type": "code",
      "source": [
        "SELECT\n",
        "   product_subcategory,\n",
        "   COUNT (product_name) AS products_in_subcat\n",
        "FROM product\n",
        "GROUP BY 1\n",
        "ORDER BY products_in_subcat DESC, product_subcategory\n",
        ";"
      ],
      "metadata": {
        "id": "uI_vFsudmABV"
      },
      "execution_count": null,
      "outputs": []
    },
    {
      "cell_type": "markdown",
      "source": [
        "21. Show the product_id(s), the sum of quantities, where the total sum of it's product quantities is greater than or equal to 100."
      ],
      "metadata": {
        "id": "V-9iy31_mECd"
      }
    },
    {
      "cell_type": "code",
      "source": [
        "SELECT\n",
        "   product_id,\n",
        "   SUM (quantity) AS order_quant\n",
        "FROM product\n",
        "JOIN order_details USING (product_id)\n",
        "GROUP BY product_id\n",
        "HAVING SUM (quantity)>=100\n",
        "ORDER BY order_quant DESC\n",
        ";"
      ],
      "metadata": {
        "id": "2jfssixJmMFd"
      },
      "execution_count": null,
      "outputs": []
    },
    {
      "cell_type": "markdown",
      "source": [
        "22. Show the product_id(s), the sum of quantities, where for each sale of product quantities is greater than or equal to 100."
      ],
      "metadata": {
        "id": "Sq8wy3FHmO08"
      }
    },
    {
      "cell_type": "code",
      "execution_count": null,
      "metadata": {
        "id": "rgG0nC5qvK9k"
      },
      "outputs": [],
      "source": [
        "SELECT\n",
        "   product_id,\n",
        "   SUM (quantity) AS order_quant\n",
        "FROM product\n",
        "JOIN order_details USING (product_id)\n",
        "WHERE quantity>=100\n",
        "GROUP BY product_id\n",
        "ORDER BY order_quant DESC\n",
        ";"
      ]
    }
  ]
}